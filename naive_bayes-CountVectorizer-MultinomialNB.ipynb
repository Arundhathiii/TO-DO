{
 "cells": [
  {
   "cell_type": "code",
   "execution_count": 2,
   "id": "fd57e183-d1e3-4b42-bf62-f2945b7e4765",
   "metadata": {},
   "outputs": [
    {
     "name": "stdout",
     "output_type": "stream",
     "text": [
      "<Compressed Sparse Row sparse matrix of dtype 'int64'\n",
      "\twith 26 stored elements and shape (6, 19)>\n",
      "  Coords\tValues\n",
      "  (0, 8)\t1\n",
      "  (0, 13)\t1\n",
      "  (0, 3)\t1\n",
      "  (1, 8)\t1\n",
      "  (1, 15)\t1\n",
      "  (1, 17)\t1\n",
      "  (1, 14)\t1\n",
      "  (2, 15)\t1\n",
      "  (2, 5)\t1\n",
      "  (2, 7)\t1\n",
      "  (2, 16)\t1\n",
      "  (2, 11)\t1\n",
      "  (2, 0)\t1\n",
      "  (3, 13)\t1\n",
      "  (3, 15)\t1\n",
      "  (3, 18)\t1\n",
      "  (3, 6)\t1\n",
      "  (3, 1)\t1\n",
      "  (4, 18)\t1\n",
      "  (4, 4)\t1\n",
      "  (4, 2)\t1\n",
      "  (5, 18)\t1\n",
      "  (5, 2)\t1\n",
      "  (5, 9)\t1\n",
      "  (5, 10)\t1\n",
      "  (5, 12)\t1 <Compressed Sparse Row sparse matrix of dtype 'int64'\n",
      "\twith 3 stored elements and shape (2, 19)>\n",
      "  Coords\tValues\n",
      "  (0, 3)\t1\n",
      "  (0, 10)\t1\n",
      "  (1, 3)\t1\n"
     ]
    }
   ],
   "source": [
    "import pandas as pd\n",
    "from sklearn.feature_extraction.text import CountVectorizer\n",
    "from sklearn.model_selection import train_test_split\n",
    "from sklearn.naive_bayes import MultinomialNB\n",
    "from sklearn.metrics import accuracy_score\n",
    "\n",
    "data = {\n",
    "    'text': [\n",
    "        \"I love sunny days\",\n",
    "        \"Rainy days make me happy\",\n",
    "        \"I enjoy long walks on the beach\",\n",
    "        \"I dislike cold weather\",\n",
    "        \"Sunny weather is the best\",\n",
    "        \"I am not a fan of rainy days\",\n",
    "        \"Cold weather makes me sad\",\n",
    "        \"I love the warm sunshine\"\n",
    "    ],\n",
    "    'label': [1, 1, 1, 0, 1, 0, 0, 1]  }\n",
    "\n",
    "df = pd.DataFrame(data)\n",
    "X = df['text']\n",
    "y = df['label']\n",
    "\n",
    "X_train, X_test, y_train, y_test = train_test_split(X, y, test_size=0.25, random_state=42)\n",
    "\n",
    "# text to numerical data using CountVectorizer\n",
    "vectorizer = CountVectorizer()\n",
    "X_train_vectorized = vectorizer.fit_transform(X_train)\n",
    "X_test_vectorized = vectorizer.transform(X_test)\n",
    "\n",
    "print(X_train_vectorized,X_test_vectorized)"
   ]
  },
  {
   "cell_type": "code",
   "execution_count": 3,
   "id": "6c516b5f-48bb-401c-bf31-2906ca873581",
   "metadata": {},
   "outputs": [
    {
     "name": "stdout",
     "output_type": "stream",
     "text": [
      "Accuracy using accuracy_score: 0.5\n",
      "Accuracy using model's score method: 0.5\n"
     ]
    }
   ],
   "source": [
    "model = MultinomialNB()\n",
    "model.fit(X_train_vectorized, y_train)\n",
    "\n",
    "y_pred = model.predict(X_test_vectorized)\n",
    "\n",
    "# Calculating the accuracy using accuracy_score\n",
    "accuracy = accuracy_score(y_test, y_pred)\n",
    "print(f\"Accuracy using accuracy_score: {accuracy}\")\n",
    "\n",
    "# Calculating the score using the model's score method\n",
    "model_score = model.score(X_test_vectorized, y_test)\n",
    "print(f\"Accuracy using model's score method: {model_score}\")"
   ]
  },
  {
   "cell_type": "code",
   "execution_count": 4,
   "id": "48cecb00-6446-4ac1-acc0-f80753fefd8e",
   "metadata": {},
   "outputs": [
    {
     "name": "stdout",
     "output_type": "stream",
     "text": [
      "\n",
      "Predictions vs Actual values:\n",
      "   Actual  Predicted\n",
      "0       1          1\n",
      "1       0          1\n"
     ]
    }
   ],
   "source": [
    "# predictions and actual values\n",
    "results = pd.DataFrame({\n",
    "    'Actual': y_test.values,\n",
    "    'Predicted': y_pred\n",
    "})\n",
    "print(\"\\nPredictions vs Actual values:\")\n",
    "print(results)"
   ]
  },
  {
   "cell_type": "code",
   "execution_count": null,
   "id": "3f2301d3-6ecc-484e-b7b5-de55eead8932",
   "metadata": {},
   "outputs": [],
   "source": []
  }
 ],
 "metadata": {
  "kernelspec": {
   "display_name": "Python 3 (ipykernel)",
   "language": "python",
   "name": "python3"
  },
  "language_info": {
   "codemirror_mode": {
    "name": "ipython",
    "version": 3
   },
   "file_extension": ".py",
   "mimetype": "text/x-python",
   "name": "python",
   "nbconvert_exporter": "python",
   "pygments_lexer": "ipython3",
   "version": "3.12.1"
  }
 },
 "nbformat": 4,
 "nbformat_minor": 5
}
